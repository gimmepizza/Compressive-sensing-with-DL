{
  "nbformat": 4,
  "nbformat_minor": 0,
  "metadata": {
    "colab": {
      "name": "ddp_beni.ipynb",
      "provenance": [],
      "collapsed_sections": []
    },
    "kernelspec": {
      "name": "python3",
      "display_name": "Python 3"
    },
    "accelerator": "GPU"
  },
  "cells": [
    {
      "cell_type": "markdown",
      "metadata": {
        "id": "tURyBfB4kgSp"
      },
      "source": [
        "#Compressive Sensing using Deep Learning\n",
        "\n",
        "Due to increaing complexity of devices, the need for more data is constantly increasing, which in turn increases the need for more sensors in a compact region. Although there are state of the art compression models present but most require high computation power to compress. Which is not feasable at a sensor level.\n",
        "This can be overcome through  compressive sensing, where we measure fewer datapoints, and decode back the full data. Mathematically the problem reduces to finding $X  \\in R^m$ given $Y \\in R^N$ , $A\\in R^{m x n}$ and $N\\in R^n$ is gaussian noise: $$Y = AX + N$$ \n",
        "The focus of our problem is the situation when $m > n$ ,because we wish to decompress our measured signal, $Y$, with the added assumption that $X$ is sparse. The goal of compressive sensing is to achieve compression greater than what nyquist thorem states, by exploiting the sparseness of the signal. \\\\\n",
        "Applications of compressive sensing lies in various fields of study ranging from photography to network tomography. Some existing methods to achieve compressive sensing are: \n",
        "\n",
        "\n",
        "*   List item\n",
        "*   List item\n",
        "\n",
        "#Project timeline\n",
        "July - August:\n",
        "Goal\n",
        "sept oct \n",
        "\n",
        "\n",
        "\n",
        "\n",
        "\n"
      ]
    },
    {
      "cell_type": "code",
      "metadata": {
        "id": "lwkPn0qUdZQG"
      },
      "source": [
        "import tensorflow as tf\n",
        "from tensorflow import keras\n",
        "import numpy as np\n",
        "import matplotlib.pyplot as plt\n",
        "from scipy.fftpack import fft,dct\n",
        "from tensorflow.keras.datasets import mnist\n",
        "from scipy.sparse import random\n",
        "from keras import layers\n",
        "from keras.layers import Dense, Dropout, LSTM\n",
        "from keras.callbacks import EarlyStopping\n",
        "from tensorflow.compat.v1.keras.layers import CuDNNLSTM\n",
        "from keras import backend as K\n",
        "from sklearn.linear_model import OrthogonalMatchingPursuit"
      ],
      "execution_count": null,
      "outputs": []
    },
    {
      "cell_type": "markdown",
      "metadata": {
        "id": "nb_inrqYcBwD"
      },
      "source": [
        "Schematic flow:\n",
        "X' is sparse matrix\n",
        "\n",
        "      X  --Tranform-->   FX  -->  Y = (AFX + noise) --> Neural Network -->  FX'   --Tranform-->  X' --Thresholding-->  X'_thresh"
      ]
    },
    {
      "cell_type": "markdown",
      "metadata": {
        "id": "x43ueiHSEnyH"
      },
      "source": [
        "Clarifications: Y is the input to NN X is the output. X and Y are governed by  the equation: Y= AX +B  ,where B is noise"
      ]
    },
    {
      "cell_type": "code",
      "metadata": {
        "id": "3_zQ4ZBOfTNh"
      },
      "source": [
        "# Initializations\n",
        "dimension = 100\n",
        "equations = 50\n",
        "A = np.random.rand(equations,dimension)\n",
        "n = 10000 # no of points to generate\n",
        "eval_n = 5000 #points to eval/validate model on\n",
        "test_n = 5000 #testing\n",
        "mu = 0\n",
        "test_sigma = 0.2 # mean and std dev for gaussian noise for testing noise , usually kept high\n",
        "train_sigma = 0.01\n",
        "min_freq= 0\n",
        "max_freq = 20 #make sure this is not >= dimension/5\n",
        "num_of_waves = 10\n",
        "cardinality = 10\n",
        "multiplier =1\n",
        "# print(A)"
      ],
      "execution_count": null,
      "outputs": []
    },
    {
      "cell_type": "code",
      "metadata": {
        "id": "TUvggB-WfmsB"
      },
      "source": [
        "#generating db\n",
        "def generate_db(mu,sigma,A,dimension,equations,n):\n",
        "  x = np.empty((n,dimension), dtype = np.float32)\n",
        "  y = np.empty((n,equations), dtype = np.float32)\n",
        "  for i in range(n):\n",
        "    tempx = np.random.rand(dimension)\n",
        "    noise = np.random.normal(mu, sigma, [equations]) \n",
        "    tempy = np.matmul(A,tempx) + noise\n",
        "    x[i] = tempx\n",
        "    y[i] = tempy\n",
        "  return x,y\n",
        "# This is a non vectorized version for sine wave generation, so slow, use when debugging\n",
        "# def generate_db_sine(mu,sigma,A,dimension,equations,n,min_freq = 0.1,max_freq=20,k=1):\n",
        "#   Fs = dimension\n",
        "#   time = np.arange(Fs)/Fs\n",
        "#   x = np.empty((n,dimension), dtype = np.float32)\n",
        "#   y = np.empty((n,equations), dtype = np.float32)\n",
        "#   for i in range(n):\n",
        "#     f = 13.34935244#np.random.uniform(min_freq,max_freq)\n",
        "#     phi = np.random.uniform(0,2*np.pi)\n",
        "#     tempx= np.sin((2 * np.pi * f * time / Fs)+phi)\n",
        "#     noise = np.random.normal(mu, sigma, [equations]) \n",
        "#     tempy = np.matmul(A,tempx) + noise\n",
        "#     x[i] = tempx\n",
        "#     y[i] = tempy\n",
        "#   return x,y,f\n",
        "\n",
        "def generate_db_sine(mu,sigma,A,dimension,equations,n,\n",
        "                     min_freq = 0.1,max_freq=25):\n",
        "  #m = dimension ; n = equations ; A = CS matrix\n",
        "  Fs = dimension \n",
        "  time = np.arange(Fs).reshape(1,Fs)/Fs\n",
        "  f = np.random.uniform(min_freq,max_freq,(n,1))\n",
        "  phi = np.random.uniform(0,2*np.pi,(n,1))\n",
        "  datx = np.cos(((np.outer(time,f)*2*np.pi).T)).T\n",
        "  noise = np.random.normal(mu, sigma, (equations,n))\n",
        "  daty = np.matmul(A,datx)+noise\n",
        "  return datx.T,daty.T\n",
        "\n",
        "def generate_db_sine_multiple(mu,sigma,A,dimension,\n",
        "                              equations,n,min_freq =\n",
        "                              0.1,max_freq=20,k=1):\n",
        "  x = np.zeros((n,dimension), dtype = np.float32)\n",
        "  y = np.zeros((n,equations), dtype = np.float32)\n",
        "  for i in range(k):\n",
        "    x1,y1 = generate_db_sine(mu,sigma,A,dimension,equations,n,min_freq,max_freq)\n",
        "    x = np.add(x,x1)\n",
        "    y = np.add(y,y1)\n",
        "  return x,y\n",
        "  \n",
        "def generate_db_sparse(mu,sigma,num_of_waves,dimension,equations,n,A,cardinality):\n",
        "  \n",
        "  x = np.zeros((n,dimension), dtype = np.float32)\n",
        "  y = np.zeros((equations,n,dimension+1,1), dtype = np.float32)\n",
        "  y_unmodified = np.zeros((n,equations), dtype = np.float32)\n",
        "  # sums = np.sum(A,axis =1)\n",
        "  # print(len(sums),\"sums \",sums )\n",
        "  # A1 = np.reshape(A,(1,dimension*equations))\n",
        "  # temp = np.ones(n)\n",
        "  # temp = np.reshape(temp,(n,1))\n",
        "  # temp = temp*A1\n",
        "  # print(temp.shape)\n",
        "  y_ret = np.empty([n, dimension+1,equations])\n",
        "  for i in range(n):\n",
        "    x[i] = ((random(1, dimension, density=num_of_waves/dimension).A))\n",
        "    # print(x[i])\n",
        "    temp = (x[i]>0).astype(int)\n",
        "    x[i] = (x[i]*cardinality).astype(int)\n",
        "    # x[i] = np.reshape(x[i],(dimension,1))\n",
        "    # x=(x>0).astype(int);\n",
        "    \n",
        "    noise = np.random.normal(mu, sigma, (equations))\n",
        "    y_temp = np.matmul(A,x[i].T)+noise\n",
        "    # print(y_temp)\n",
        "    # y_temp = np.divide(y_temp,sums)\n",
        "    # print(y_temp)\n",
        "    y_unmodified[i]= y_temp\n",
        "    y_temp = y_temp.reshape((equations,1))\n",
        "    # print(x[i].shape,noise.shape,y_temp.shape) \n",
        "    # print(y_temp)\n",
        "    mesa_t = np.append(y_temp,A,axis =1)\n",
        "    y_ret[i]=(np.transpose(np.array(mesa_t)))\n",
        "    # flattened = np.reshape(mesa_t,(equations*(dimension+1)))\n",
        "    # for j in range(equations):\n",
        "    #   t=flattened[j*(dimension+1):(j+1)*(dimension+1)]\n",
        "    #   y[j][i]= t.reshape((len(t),1))\n",
        "\n",
        "  # y_ret = []\n",
        "  # for j in range(equations):\n",
        "  #   y_ret.append(y[j])#.reshape((y[j].shape[0],1)))\n",
        "    # print(temp)\n",
        "  # print(A)\n",
        "  #--------\n",
        "  # x=(x>0).astype(int);\n",
        "  x= x*multiplier\n",
        "  # x = x-1\n",
        "  # y = np.concatenate((y.T,temp),axis =1)\n",
        "  # print(x,y)\n",
        "  return y_unmodified,x,y_ret;\n",
        "  # To save into csv \n",
        "  # with open('dbx', 'wb') as dbx:\n",
        "  #   np.save(dbx,x)\n",
        "\n",
        "  # with open('dby', 'wb') as dby:\n",
        "  #   np.save(dby,y)"
      ],
      "execution_count": null,
      "outputs": []
    },
    {
      "cell_type": "code",
      "metadata": {
        "id": "ex9cN-BxjZzh",
        "colab": {
          "base_uri": "https://localhost:8080/"
        },
        "outputId": "9dd67a16-f2c0-4f61-fbc8-4e5d4d017b41"
      },
      "source": [
        "# x_train,y_train = generate_db_sine_multiple(mu,train_sigma,A,dimension,equations,n,min_freq,max_freq,num_of_waves)\n",
        "y_unmodified,x_train,y_train = generate_db_sparse(mu,train_sigma,num_of_waves,dimension,equations,1,A,cardinality)\n",
        "print(x_train.shape,len(y_train),len(y_train[0]),len(y_train[0][0]),len(y_unmodified),len(y_unmodified[0]))\n",
        "print(x_train)\n",
        "print(y_train.shape)\n",
        "print(y_unmodified.shape)\n"
      ],
      "execution_count": null,
      "outputs": [
        {
          "output_type": "stream",
          "text": [
            "(1, 100) 1 101 50 1 50\n",
            "[[3. 0. 0. 0. 0. 0. 0. 0. 0. 0. 0. 0. 0. 0. 0. 0. 0. 0. 0. 0. 7. 0. 0. 0.\n",
            "  0. 0. 2. 0. 0. 0. 0. 0. 0. 0. 0. 0. 0. 0. 0. 0. 0. 0. 0. 0. 5. 2. 4. 0.\n",
            "  0. 0. 0. 0. 0. 0. 0. 0. 0. 0. 0. 0. 0. 0. 5. 0. 0. 0. 0. 0. 0. 0. 0. 0.\n",
            "  0. 3. 0. 0. 0. 0. 0. 0. 0. 0. 0. 0. 0. 0. 0. 0. 0. 0. 0. 0. 7. 0. 0. 0.\n",
            "  0. 0. 0. 0.]]\n",
            "(1, 101, 50)\n",
            "(1, 50)\n"
          ],
          "name": "stdout"
        }
      ]
    },
    {
      "cell_type": "code",
      "metadata": {
        "id": "AwxRdBpQuLZg",
        "colab": {
          "base_uri": "https://localhost:8080/",
          "height": 158
        },
        "outputId": "ee399683-f777-4238-fc2f-a19d3157d373"
      },
      "source": [
        "'''\n",
        "# The model\n",
        "def model_noise(x,y,x_test,y_test):\n",
        "  \n",
        "  \n",
        "  y_in = keras.Input(shape=(equations))\n",
        "  ly = keras.layers.Dense(equations*8, activation='relu')(y_in)# input_shape=[equations+ dimension*equations]),\n",
        "  y_out = keras.layers.Dense(equations*4, activation='relu')(ly)\n",
        "  # modely = keras.Model(inputs=y_in, outputs=y_out, name=\"y_model\")\n",
        "  \n",
        "  A_in = keras.Input(shape=(dimension*equations))\n",
        "  lA = keras.layers.Dense(dimension*equations/2, activation='relu')(A_in)# input_shape=[equations+ dimension*equations]),\n",
        "  A_out = keras.layers.Dense(dimension*equations/100, activation='relu')(lA)# input_shape=[equations+ dimension*equations]),\n",
        "  # modelA = keras.Model(inputs=A_in, outputs=A_out, name=\"A_model\")\n",
        "  # print(modely.output.shape,modelA.output.shape)\n",
        "  combined = tf.keras.layers.concatenate([y_out, A_out])\n",
        "\n",
        "  lc1 = keras.layers.Dense(dimension*8, activation='relu')(combined)\n",
        "  lc2 = keras.layers.Dense(dimension*4, activation='relu')(lc1)\n",
        "    # keras.layers.Dense(dimension, activation='sigmoid') # for sparse 1 0 output\n",
        "  c_out = keras.layers.Dense(dimension, activation='linear')(lc2) # for sparse 1 0 output\n",
        "  modelC = keras.Model(inputs=[y_in,A_in], outputs=c_out, name=\"c_model\")\n",
        "\n",
        "  modelC.compile(loss='mse', optimizer='adam', metrics=['logcosh', 'mse'])\n",
        "  \n",
        "  Aa= np.array(A)\n",
        "  A1 = np.reshape(Aa,(1,dimension*equations))\n",
        "  temp = np.ones(y.shape[0])\n",
        "  temp = np.reshape(temp,(y.shape[0],1))\n",
        "  temp = temp*A1\n",
        "  temp2 = np.ones(y_test.shape[0])\n",
        "  temp2 = np.reshape(temp2,(y_test.shape[0],1))\n",
        "  temp2 = temp2*A1\n",
        "  print(\"hello: \" ,y.shape,temp.shape)\n",
        "  z = [y,temp]\n",
        "  print(len(z),len(z[0]),len(z[0][0]),len(z[1][0]))\n",
        "  history = modelC.fit([y,temp], x,validation_data=([y_test,temp2],x_test), epochs=200,verbose=0)\n",
        "  print(modelC.summary())\n",
        "\n",
        "  #evaluating on trained noise data\n",
        "  # eval_train_noise = model.evaluate(y[-eval_n:],x[-eval_n:],verbose=0)\n",
        "\n",
        "  #evaluating on high noise data\n",
        "  # diff = np.square(high_noise_data[0] - model.predict(high_noise_data[1]))\n",
        "  # mse_high_noise = (np.apply_along_axis(np.sum,1,diff))/(dimension)\n",
        "  \n",
        "  # return np.average(mse_high_noise), eval_train_noise[0],model,history\n",
        "  return modelC,history\n",
        "\n",
        "'''"
      ],
      "execution_count": null,
      "outputs": [
        {
          "output_type": "execute_result",
          "data": {
            "application/vnd.google.colaboratory.intrinsic+json": {
              "type": "string"
            },
            "text/plain": [
              "'\\n# The model\\ndef model_noise(x,y,x_test,y_test):\\n  \\n  \\n  y_in = keras.Input(shape=(equations))\\n  ly = keras.layers.Dense(equations*8, activation=\\'relu\\')(y_in)# input_shape=[equations+ dimension*equations]),\\n  y_out = keras.layers.Dense(equations*4, activation=\\'relu\\')(ly)\\n  # modely = keras.Model(inputs=y_in, outputs=y_out, name=\"y_model\")\\n  \\n  A_in = keras.Input(shape=(dimension*equations))\\n  lA = keras.layers.Dense(dimension*equations/2, activation=\\'relu\\')(A_in)# input_shape=[equations+ dimension*equations]),\\n  A_out = keras.layers.Dense(dimension*equations/100, activation=\\'relu\\')(lA)# input_shape=[equations+ dimension*equations]),\\n  # modelA = keras.Model(inputs=A_in, outputs=A_out, name=\"A_model\")\\n  # print(modely.output.shape,modelA.output.shape)\\n  combined = tf.keras.layers.concatenate([y_out, A_out])\\n\\n  lc1 = keras.layers.Dense(dimension*8, activation=\\'relu\\')(combined)\\n  lc2 = keras.layers.Dense(dimension*4, activation=\\'relu\\')(lc1)\\n    # keras.layers.Dense(dimension, activation=\\'sigmoid\\') # for sparse 1 0 output\\n  c_out = keras.layers.Dense(dimension, activation=\\'linear\\')(lc2) # for sparse 1 0 output\\n  modelC = keras.Model(inputs=[y_in,A_in], outputs=c_out, name=\"c_model\")\\n\\n  modelC.compile(loss=\\'mse\\', optimizer=\\'adam\\', metrics=[\\'logcosh\\', \\'mse\\'])\\n  \\n  Aa= np.array(A)\\n  A1 = np.reshape(Aa,(1,dimension*equations))\\n  temp = np.ones(y.shape[0])\\n  temp = np.reshape(temp,(y.shape[0],1))\\n  temp = temp*A1\\n  temp2 = np.ones(y_test.shape[0])\\n  temp2 = np.reshape(temp2,(y_test.shape[0],1))\\n  temp2 = temp2*A1\\n  print(\"hello: \" ,y.shape,temp.shape)\\n  z = [y,temp]\\n  print(len(z),len(z[0]),len(z[0][0]),len(z[1][0]))\\n  history = modelC.fit([y,temp], x,validation_data=([y_test,temp2],x_test), epochs=200,verbose=0)\\n  print(modelC.summary())\\n\\n  #evaluating on trained noise data\\n  # eval_train_noise = model.evaluate(y[-eval_n:],x[-eval_n:],verbose=0)\\n\\n  #evaluating on high noise data\\n  # diff = np.square(high_noise_data[0] - model.predict(high_noise_data[1]))\\n  # mse_high_noise = (np.apply_along_axis(np.sum,1,diff))/(dimension)\\n  \\n  # return np.average(mse_high_noise), eval_train_noise[0],model,history\\n  return modelC,history\\n\\n'"
            ]
          },
          "metadata": {
            "tags": []
          },
          "execution_count": 5
        }
      ]
    },
    {
      "cell_type": "code",
      "metadata": {
        "id": "6jPq9Ij30UFA"
      },
      "source": [
        "# def custom_mse(y_true, y_pred):\n",
        "#         return K.square(K.mean(K.square(y_pred - y_true)))\n",
        "# The model\n",
        "def model_noise(x,y,x_test,y_test):\n",
        "  # layers = []\n",
        "  # inputs = []\n",
        "  lrelu = lambda x: tf.keras.activations.relu(x, alpha=0.05)\n",
        "  # for i in range(0,equations):\n",
        "  model = keras.models.Sequential()\n",
        "  # input_l  = keras.Input(shape=(dimension+1,equations))  \n",
        "  model.add(layers.LSTM(dimension,input_shape=((dimension+1,equations)) ,activation=\"tanh\", recurrent_activation=\"sigmoid\",use_bias=True,\n",
        "                        return_sequences=True))\n",
        "  model.add(layers.LSTM(dimension, activation=\"tanh\",recurrent_activation=\"sigmoid\",use_bias=True,return_sequences=False))\n",
        "  model.add(layers.Dense(dimension*2, activation=lrelu))\n",
        "\n",
        "  # added_layer = keras.layers.Average()(layers)\n",
        "  # print(len(layers),layers[0].shape)\n",
        "  # print(len(inputs),inputs[0].shape)\n",
        "  print(multiplier, \"in func\")\n",
        "\n",
        "  # model.add(layers.Dense(dimension*8, activation=lrelu))\n",
        "  # lc2 = keras.layers.Dense(dimension*4, activation= lrelu)(lc1)\n",
        "  # lc3 = keras.layers.Dense(dimension*2, activation= lrelu)(lc2)\n",
        "  # model.add(layers.Dense(dimension*2, activation= lrelu))\n",
        "  # keras.layers.Dense(dimension, activation='sigmoid') # for sparse 1 0 output\n",
        "  model.add(layers.Dense(dimension, activation='linear'))# for sparse 1 0 output\n",
        "  \n",
        "  # modelC = keras.Model(inputs = input_l,outputs = c_out, name=\"c_model\")\n",
        "  # opt = keras.optimizers.Adam(learning_rate=0.001,decay = 0.001)\n",
        "  model.compile(loss=\"mse\", optimizer='adam', metrics=['logcosh', 'mse'])\n",
        "  #--------Set up data\n",
        "  print(model.summary())\n",
        "  from keras.utils.vis_utils import plot_model\n",
        "  plot_model(model, to_file='model_plot.png', show_shapes=True, show_layer_names=True)\n",
        "  es = EarlyStopping(monitor='loss', mode='min', verbose=1,patience = 100, min_delta = 0.001)\n",
        "  \n",
        "  history = model.fit(y, x,validation_data=(y_test,x_test),batch_size = 500, epochs=20,verbose=2)#,callbacks= [es])\n",
        " \n",
        "\n",
        "  #evaluating on trained noise data\n",
        "  # eval_train_noise = model.evaluate(y[-eval_n:],x[-eval_n:],verbose=0)\n",
        "\n",
        "  #evaluating on high noise data\n",
        "  # diff = np.square(high_noise_data[0] - model.predict(high_noise_data[1]))\n",
        "  # mse_high_noise = (np.apply_along_axis(np.sum,1,diff))/(dimension)\n",
        "  \n",
        "  # return np.average(mse_high_noise), eval_train_noise[0],model,history\n",
        "  return model,history\n",
        "\n"
      ],
      "execution_count": null,
      "outputs": []
    },
    {
      "cell_type": "code",
      "metadata": {
        "id": "oE3O4AFUL5RX"
      },
      "source": [
        "# #Plotting\n",
        "# plt.plot(sigmas,high_noise_mses,'b-',label = \"Low noise \")\n",
        "# plt.plot(sigmas,train_noise_mses,'r-',label = \"Training noise \")\n",
        "# plt.ylabel('MSE of Error')\n",
        "# plt.xlabel('Sigma')\n",
        "# plt.legend()\n",
        "# # plt.savefig('0_1_to_1_gaussian_0.05.png')\n"
      ],
      "execution_count": null,
      "outputs": []
    },
    {
      "cell_type": "code",
      "metadata": {
        "id": "60Ovpwp43vL2"
      },
      "source": [
        "# Train model \n",
        "def model_it(cardinality):\n",
        "  import time\n",
        "  tick1 = time.time()\n",
        "  y_temp,x_train,y_train = generate_db_sparse(mu,train_sigma,num_of_waves,dimension,equations,n,A,cardinality)\n",
        "  # x_test,y_test = generate_db_sine_multiple(mu,test_sigma,A,dimension,equations,eval_n,min_freq,max_freq,num_of_waves)\n",
        "  y_unmodified,x_test,y_test = generate_db_sparse(mu,train_sigma,num_of_waves,dimension,equations,eval_n,A,cardinality)\n",
        "  # miprint(x_train.shape,y_train.shape)\n",
        "  # print(x_t est.shape,y_test.shape)\n",
        "  \n",
        "  print(np.array(y_train).shape)\n",
        "  print(np.array(y_test).shape)\n",
        "  print(x_train.shape)\n",
        "  print(x_test.shape)\n",
        "  print(x_test[1])\n",
        "  model,history = model_noise(x_train,y_train,x_test,y_test)\n",
        "  tock1 = time.time()\n",
        "  print(tock1-tick1)\n",
        "\n",
        "  ## SAVE MODEL\n",
        "  model.save(\"model.h5\")\n",
        "  return model,history, x_test,y_test,y_unmodified\n",
        " \n",
        "# model,history, x_test,y_test = model_it(cardinality)"
      ],
      "execution_count": null,
      "outputs": []
    },
    {
      "cell_type": "code",
      "metadata": {
        "id": "08cOs1mFah37"
      },
      "source": [
        "## LOAD model\n",
        "# from keras.models import load_model\n",
        "# model = load_model('model.h5')\n"
      ],
      "execution_count": null,
      "outputs": []
    },
    {
      "cell_type": "code",
      "metadata": {
        "id": "VswI_pnp-UQB"
      },
      "source": [
        "# Plot loss(mse)\n",
        "\n",
        "# plt.plot(history.history['loss'][100:2000])\n",
        "# plt.plot(history.history['val_loss'][100:2000])\n"
      ],
      "execution_count": null,
      "outputs": []
    },
    {
      "cell_type": "code",
      "metadata": {
        "id": "g5sckOxZkijh"
      },
      "source": [
        "#Metrics evaluation of model trained\n",
        "#Seeing just one example sine wave\n",
        "# x = np.empty((1,dimension), dtype = np.float32)\n",
        "# y = np.empty((1,equations), dtype = np.float32)\n",
        "# x,y = generate_db_sparse(mu,train_sigma,10 ,dimension,equations,1,A)\n",
        "\n",
        "#Test analysis\n",
        "# test_n = 5000\n",
        "# x = np.empty((test_n,dimension), dtype = np.float32)\n",
        "# y = np.empty((test_n,equations), dtype = np.float32)\n",
        "# _,x,y = generate_db_sparse(mu,train_sigma,10 ,dimension,equations,test_n,A,cardinality)\n",
        "# x1 = model.predict(y)\n",
        "\n",
        "# print(\"mse of example :\",((x1-x[0])**2).mean())\n",
        "# print((x[0]).astype(int),\"\\n\",(np.round(x1[0])).astype(int))\n",
        "# plt.plot(x[0],'r.',(x1[0]),'b')\n",
        "\n",
        "\n",
        "# #complete metric\n",
        "# print(\"Training loss   :\",history.history[\"loss\"][-1])\n",
        "# print(\"Validation loss :\", history.history[\"val_loss\"][-1])\n",
        "\n",
        "# Red is noise free input, Blue is predicted by model "
      ],
      "execution_count": null,
      "outputs": []
    },
    {
      "cell_type": "code",
      "metadata": {
        "id": "jeMCZxPLhYv1",
        "colab": {
          "base_uri": "https://localhost:8080/",
          "height": 158
        },
        "outputId": "b7fc1842-e13f-4863-8fef-cd1ac76023fb"
      },
      "source": [
        "#analysis using x and x1 , to find which all values are correctly classified\n",
        "# x(true)   x1(predicted)\n",
        "# for i in range(test_n):\n",
        "# x = x/4\n",
        "# x1 = np.round(x1/4)\n",
        "\"\"\"\n",
        "x1 = np.multiply((x1>0),x1)\n",
        "z = np.multiply((x==x1).astype(int),x.astype(int))\n",
        "unique_elements_true, counts_elements_true = np.unique(x.astype(int), return_counts=True)\n",
        "unique_elements_predicted, counts_elements_predicted= np.unique(z, return_counts=True)\n",
        "print(\"exact value analysis\")\n",
        "print(unique_elements_true, counts_elements_true)\n",
        "print(unique_elements_predicted, counts_elements_predicted)\n",
        "print(unique_elements_predicted, counts_elements_predicted/counts_elements_true)\n",
        "\n",
        "\n",
        "#sparseness analysis\n",
        "print(\"Sparse value analysis\")\n",
        "s = (x>0).astype(int)\n",
        "s1 = (x1>0).astype(int)\n",
        "tp = np.logical_and((s==s1),(1)).astype(int)\n",
        "# fp = np.logical_and((s==s1),(s==0)).astype(int)\n",
        "sparse_unique_elements_true, sparse_counts_elements_true = np.unique(s.astype(int), return_counts=True)\n",
        "sparse_unique_elements_predicted, sparse_counts_elements_predicted= np.unique(tp, return_counts=True)\n",
        "print(sparse_unique_elements_true, sparse_counts_elements_true)\n",
        "print(sparse_unique_elements_predicted, sparse_counts_elements_predicted/(test_n*dimension))\n",
        "print(sparse_unique_elements_predicted, sparse_counts_elements_predicted/sparse_counts_elements_true)\n",
        "\n",
        "# print((x[1]).astype(int))\n",
        "print()\n",
        "\"\"\"\n",
        "\n"
      ],
      "execution_count": null,
      "outputs": [
        {
          "output_type": "execute_result",
          "data": {
            "application/vnd.google.colaboratory.intrinsic+json": {
              "type": "string"
            },
            "text/plain": [
              "'\\nx1 = np.multiply((x1>0),x1)\\nz = np.multiply((x==x1).astype(int),x.astype(int))\\nunique_elements_true, counts_elements_true = np.unique(x.astype(int), return_counts=True)\\nunique_elements_predicted, counts_elements_predicted= np.unique(z, return_counts=True)\\nprint(\"exact value analysis\")\\nprint(unique_elements_true, counts_elements_true)\\nprint(unique_elements_predicted, counts_elements_predicted)\\nprint(unique_elements_predicted, counts_elements_predicted/counts_elements_true)\\n\\n\\n#sparseness analysis\\nprint(\"Sparse value analysis\")\\ns = (x>0).astype(int)\\ns1 = (x1>0).astype(int)\\ntp = np.logical_and((s==s1),(1)).astype(int)\\n# fp = np.logical_and((s==s1),(s==0)).astype(int)\\nsparse_unique_elements_true, sparse_counts_elements_true = np.unique(s.astype(int), return_counts=True)\\nsparse_unique_elements_predicted, sparse_counts_elements_predicted= np.unique(tp, return_counts=True)\\nprint(sparse_unique_elements_true, sparse_counts_elements_true)\\nprint(sparse_unique_elements_predicted, sparse_counts_elements_predicted/(test_n*dimension))\\nprint(sparse_unique_elements_predicted, sparse_counts_elements_predicted/sparse_counts_elements_true)\\n\\n# print((x[1]).astype(int))\\nprint()\\n'"
            ]
          },
          "metadata": {
            "tags": []
          },
          "execution_count": 12
        }
      ]
    },
    {
      "cell_type": "code",
      "metadata": {
        "id": "3Zpx3DNx4Tul",
        "colab": {
          "base_uri": "https://localhost:8080/"
        },
        "outputId": "2f62aa37-bfc8-473f-c814-66cc59a82bab"
      },
      "source": [
        "# for i in range(2,11):\n",
        "#   print(\"Cardinality: \",i)\n",
        "#   model,history, x_test,y_test = model_it(i)\n",
        "#   print(\"Training loss   :\",history.history[\"loss\"][-1])\n",
        "#   print(\"Validation loss :\", history.history[\"val_loss\"][-1])\n",
        "#   x1 = model.predict(y_test)\n",
        "#   x1 = np.round(np.multiply((x1>0),x1))  \n",
        "#   s = (x_test>0).astype(int)\n",
        "#   s1 = (x1>0).astype(int)\n",
        "#   tp = np.logical_and((s==s1),(1)).astype(int)\n",
        "#   sparse_unique_elements_true, sparse_counts_elements_true = np.unique(s.astype(int), return_counts=True)\n",
        "#   sparse_unique_elements_predicted, sparse_counts_elements_predicted= np.unique(tp, return_counts=True)\n",
        "#   print(\"Percentage Accuracy: [Wrong,Right]:\" ,100* sparse_counts_elements_predicted/(test_n*dimension))\n",
        "#   print(\"\\n\")\n",
        "# print(model)\n",
        "\n",
        "\"\"\"\n",
        "for i in range(10,11):\n",
        "  print(\"Multiplier: \",i)\n",
        "  multiplier = i\n",
        "  model,history, x_test,y_test = model_it(10)\n",
        "  print(\"Training loss   :\",history.history[\"loss\"][-1])\n",
        "  print(\"Validation loss :\", history.history[\"val_loss\"][-1])\n",
        "  x1 = model.predict(y_test)\n",
        "  x_test = x_test/i\n",
        "  x1 = x1/i\n",
        "  x1 = np.round(x1)\n",
        "  x1 = np.multiply((x1>0),x1)  \n",
        "  s = (x_test>0).astype(int)\n",
        "  s1 = (x1>0).astype(int)\n",
        "  tp = np.logical_and((s==s1),(1)).astype(int)\n",
        "  sparse_unique_elements_true, sparse_counts_elements_true = np.unique(s.astype(int), return_counts=True)\n",
        "  sparse_unique_elements_predicted, sparse_counts_elements_predicted= np.unique(tp, return_counts=True)\n",
        "  print(\"Percentage Accuracy: [Wrong,Right]:\" ,100* sparse_counts_elements_predicted/(test_n*dimension))\n",
        "  print(\"\\n\")\n",
        "\"\"\"\n",
        "#---------------\n",
        "model,history, x_test,y_test,y_unmodified = model_it(10)\n",
        "print(\"Training loss   :\",history.history[\"loss\"][-1])\n",
        "print(\"Validation loss :\", history.history[\"val_loss\"][-1])\n",
        "model_x = model.predict(y_test)\n",
        "model_x = np.round(model_x)\n",
        "model_x = np.multiply((model_x>0),model_x)\n",
        "\n",
        "true_x = (x_test>0).astype(int)\n",
        "model_x = (model_x>0).astype(int)\n",
        "\n",
        "omp = OrthogonalMatchingPursuit(n_nonzero_coefs=num_of_waves)\n",
        "omp.fit(A, y_unmodified[1])\n",
        "omp_x= omp.coef_\n",
        "# omp_x = np.round(omp_x)\n",
        "# omp_x = np.multiply((omp_x>0),omp_x)\n",
        "\n",
        "print(x_test[1],omp_x)\n",
        "print(np.dot(A,x_test[1]),y_unmodified[1])"
      ],
      "execution_count": null,
      "outputs": [
        {
          "output_type": "stream",
          "text": [
            "(10000, 101, 50)\n",
            "(5000, 101, 50)\n",
            "(10000, 100)\n",
            "(5000, 100)\n",
            "[0. 0. 0. 9. 0. 0. 0. 7. 0. 0. 0. 0. 0. 0. 0. 0. 0. 0. 0. 0. 0. 0. 0. 0.\n",
            " 0. 0. 0. 6. 4. 0. 0. 0. 0. 9. 0. 0. 0. 0. 0. 0. 0. 0. 0. 0. 6. 0. 0. 0.\n",
            " 0. 0. 0. 0. 0. 0. 2. 0. 0. 0. 0. 0. 0. 0. 0. 0. 0. 0. 0. 0. 0. 0. 0. 8.\n",
            " 0. 0. 0. 0. 0. 0. 0. 0. 0. 0. 0. 0. 0. 0. 0. 0. 0. 0. 0. 6. 0. 0. 0. 0.\n",
            " 0. 0. 0. 9.]\n",
            "1 in func\n",
            "Model: \"sequential\"\n",
            "_________________________________________________________________\n",
            "Layer (type)                 Output Shape              Param #   \n",
            "=================================================================\n",
            "lstm (LSTM)                  (None, 101, 100)          60400     \n",
            "_________________________________________________________________\n",
            "lstm_1 (LSTM)                (None, 100)               80400     \n",
            "_________________________________________________________________\n",
            "dense (Dense)                (None, 200)               20200     \n",
            "_________________________________________________________________\n",
            "dense_1 (Dense)              (None, 100)               20100     \n",
            "=================================================================\n",
            "Total params: 181,100\n",
            "Trainable params: 181,100\n",
            "Non-trainable params: 0\n",
            "_________________________________________________________________\n",
            "None\n",
            "Epoch 1/20\n",
            "20/20 - 35s - loss: 2.7071 - logcosh: 0.4274 - mse: 2.7071 - val_loss: 2.6543 - val_logcosh: 0.4417 - val_mse: 2.6543\n",
            "Epoch 2/20\n",
            "20/20 - 1s - loss: 2.6544 - logcosh: 0.4404 - mse: 2.6544 - val_loss: 2.6504 - val_logcosh: 0.4420 - val_mse: 2.6504\n",
            "Epoch 3/20\n",
            "20/20 - 1s - loss: 2.6531 - logcosh: 0.4410 - mse: 2.6531 - val_loss: 2.6497 - val_logcosh: 0.4400 - val_mse: 2.6497\n",
            "Epoch 4/20\n",
            "20/20 - 1s - loss: 2.6526 - logcosh: 0.4403 - mse: 2.6526 - val_loss: 2.6491 - val_logcosh: 0.4412 - val_mse: 2.6491\n",
            "Epoch 5/20\n",
            "20/20 - 1s - loss: 2.6529 - logcosh: 0.4411 - mse: 2.6529 - val_loss: 2.6494 - val_logcosh: 0.4409 - val_mse: 2.6494\n",
            "Epoch 6/20\n",
            "20/20 - 1s - loss: 2.6529 - logcosh: 0.4404 - mse: 2.6529 - val_loss: 2.6495 - val_logcosh: 0.4392 - val_mse: 2.6495\n",
            "Epoch 7/20\n",
            "20/20 - 1s - loss: 2.6528 - logcosh: 0.4407 - mse: 2.6528 - val_loss: 2.6496 - val_logcosh: 0.4428 - val_mse: 2.6496\n",
            "Epoch 8/20\n",
            "20/20 - 1s - loss: 2.6528 - logcosh: 0.4402 - mse: 2.6528 - val_loss: 2.6494 - val_logcosh: 0.4402 - val_mse: 2.6494\n",
            "Epoch 9/20\n",
            "20/20 - 1s - loss: 2.6527 - logcosh: 0.4406 - mse: 2.6527 - val_loss: 2.6495 - val_logcosh: 0.4411 - val_mse: 2.6495\n",
            "Epoch 10/20\n",
            "20/20 - 1s - loss: 2.6527 - logcosh: 0.4407 - mse: 2.6527 - val_loss: 2.6494 - val_logcosh: 0.4412 - val_mse: 2.6494\n",
            "Epoch 11/20\n",
            "20/20 - 1s - loss: 2.6526 - logcosh: 0.4404 - mse: 2.6526 - val_loss: 2.6493 - val_logcosh: 0.4392 - val_mse: 2.6493\n",
            "Epoch 12/20\n",
            "20/20 - 1s - loss: 2.6526 - logcosh: 0.4408 - mse: 2.6526 - val_loss: 2.6494 - val_logcosh: 0.4385 - val_mse: 2.6494\n",
            "Epoch 13/20\n",
            "20/20 - 1s - loss: 2.6525 - logcosh: 0.4405 - mse: 2.6525 - val_loss: 2.6491 - val_logcosh: 0.4383 - val_mse: 2.6491\n",
            "Epoch 14/20\n",
            "20/20 - 1s - loss: 2.6526 - logcosh: 0.4406 - mse: 2.6526 - val_loss: 2.6491 - val_logcosh: 0.4403 - val_mse: 2.6491\n",
            "Epoch 15/20\n",
            "20/20 - 1s - loss: 2.6525 - logcosh: 0.4406 - mse: 2.6525 - val_loss: 2.6492 - val_logcosh: 0.4384 - val_mse: 2.6492\n",
            "Epoch 16/20\n",
            "20/20 - 1s - loss: 2.6524 - logcosh: 0.4404 - mse: 2.6524 - val_loss: 2.6492 - val_logcosh: 0.4400 - val_mse: 2.6492\n",
            "Epoch 17/20\n",
            "20/20 - 1s - loss: 2.6524 - logcosh: 0.4406 - mse: 2.6524 - val_loss: 2.6492 - val_logcosh: 0.4394 - val_mse: 2.6492\n",
            "Epoch 18/20\n",
            "20/20 - 1s - loss: 2.6524 - logcosh: 0.4404 - mse: 2.6524 - val_loss: 2.6492 - val_logcosh: 0.4386 - val_mse: 2.6492\n",
            "Epoch 19/20\n",
            "20/20 - 1s - loss: 2.6525 - logcosh: 0.4406 - mse: 2.6525 - val_loss: 2.6495 - val_logcosh: 0.4406 - val_mse: 2.6495\n",
            "Epoch 20/20\n",
            "20/20 - 1s - loss: 2.6526 - logcosh: 0.4403 - mse: 2.6526 - val_loss: 2.6492 - val_logcosh: 0.4381 - val_mse: 2.6492\n",
            "57.83564114570618\n",
            "Training loss   : 2.6526362895965576\n",
            "Validation loss : 2.649195432662964\n",
            "[0. 0. 0. 9. 0. 0. 0. 7. 0. 0. 0. 0. 0. 0. 0. 0. 0. 0. 0. 0. 0. 0. 0. 0.\n",
            " 0. 0. 0. 6. 4. 0. 0. 0. 0. 9. 0. 0. 0. 0. 0. 0. 0. 0. 0. 0. 6. 0. 0. 0.\n",
            " 0. 0. 0. 0. 0. 0. 2. 0. 0. 0. 0. 0. 0. 0. 0. 0. 0. 0. 0. 0. 0. 0. 0. 8.\n",
            " 0. 0. 0. 0. 0. 0. 0. 0. 0. 0. 0. 0. 0. 0. 0. 0. 0. 0. 0. 6. 0. 0. 0. 0.\n",
            " 0. 0. 0. 9.] [ 0.          0.          0.          9.39334756  0.          0.\n",
            "  0.          7.14523462  0.          0.          0.          0.\n",
            "  0.          0.          0.          0.          0.          0.\n",
            "  0.          0.          0.          0.          0.          0.\n",
            "  0.          0.          0.          6.76338146  4.11031185  0.\n",
            "  0.          0.          0.          8.8619372   0.          0.\n",
            "  0.          0.          0.          0.          0.          0.\n",
            "  0.          0.          5.83163202  0.         -0.07804441  0.\n",
            "  0.          0.          0.          0.          0.          0.\n",
            "  0.          0.          0.          0.          0.          0.\n",
            "  0.          0.          0.          0.          0.          0.\n",
            "  0.          0.          0.          0.          0.          8.34605588\n",
            "  0.          0.          0.          0.          0.          0.\n",
            "  0.          0.          0.          0.          0.          0.\n",
            "  0.          0.          0.          0.          0.          0.\n",
            "  0.          5.85651363  0.          0.          0.          0.\n",
            "  0.          0.          0.          8.55002202]\n",
            "[34.15284784 32.57506029 30.45162566 31.43280504 31.57754564 30.431808\n",
            " 37.23212681 31.40442089 33.81971857 34.40309834 38.92491767 28.87442311\n",
            " 43.07028994 33.87915238 28.27340787 24.48062344 28.1578169  30.37863122\n",
            " 36.92288828 35.14769764 39.91017855 31.88630457 35.87052219 39.85641981\n",
            " 30.54595056 33.19650135 31.26199638 25.82029833 43.455778   19.47759034\n",
            " 35.53613525 29.21425127 41.60654796 35.519024   31.73978926 32.50211942\n",
            " 41.41173794 27.07982564 37.52550375 35.94183195 23.28187744 30.48781721\n",
            " 33.54522367 24.06450631 34.80553788 30.17839097 20.76490934 41.28199701\n",
            " 46.01152771 36.63020273] [34.150433 32.581654 30.454245 31.461517 31.566849 30.423733 37.234184\n",
            " 31.401665 33.824177 34.395504 38.937645 28.86446  43.07877  33.888645\n",
            " 28.264576 24.480173 28.155813 30.37844  36.934334 35.128883 39.90959\n",
            " 31.887842 35.87742  39.85297  30.530823 33.201332 31.272316 25.81648\n",
            " 43.4492   19.482595 35.54043  29.217127 41.628056 35.4985   31.729969\n",
            " 32.498844 41.42535  27.065708 37.516697 35.95505  23.279562 30.489166\n",
            " 33.55879  24.041988 34.819515 30.171928 20.752195 41.27951  46.006485\n",
            " 36.62103 ]\n"
          ],
          "name": "stdout"
        }
      ]
    },
    {
      "cell_type": "code",
      "metadata": {
        "colab": {
          "base_uri": "https://localhost:8080/"
        },
        "id": "X2dNY6la55bA",
        "outputId": "1eb1e723-a5fe-4e36-96ba-3345a3c6f29c"
      },
      "source": [
        "y_unmodified.shape"
      ],
      "execution_count": null,
      "outputs": [
        {
          "output_type": "execute_result",
          "data": {
            "text/plain": [
              "(5000, 50)"
            ]
          },
          "metadata": {
            "tags": []
          },
          "execution_count": 14
        }
      ]
    },
    {
      "cell_type": "markdown",
      "metadata": {
        "id": "xXiwGDARS99a"
      },
      "source": [
        "Cardinality:  2\n",
        "Epoch 00879: early stopping\n",
        "379.96951246261597\n",
        "Training loss   : 0.002135766204446554\n",
        "Validation loss : 0.0038868251722306013\n",
        "Percentage Accuracy: [Wrong,Right]: [9.000e-02 9.991e+01]\n",
        "\n",
        "\n",
        "Cardinality:  3\n",
        "Epoch 01044: early stopping\n",
        "448.4506371021271\n",
        "Training loss   : 0.006050974130630493\n",
        "Validation loss : 0.013447360135614872\n",
        "Percentage Accuracy: [Wrong,Right]: [ 0.5308 99.4692]\n",
        "\n",
        "\n",
        "Cardinality:  4\n",
        "512.6081898212433\n",
        "Training loss   : 0.011856448836624622\n",
        "Validation loss : 0.028034768998622894\n",
        "Percentage Accuracy: [Wrong,Right]: [ 1.201 98.799]\n",
        "\n",
        "\n",
        "Cardinality:  5\n",
        "513.373165845871\n",
        "Training loss   : 0.019076654687523842\n",
        "Validation loss : 0.049769770354032516\n",
        "Percentage Accuracy: [Wrong,Right]: [ 2.0802 97.9198]\n",
        "\n",
        "\n",
        "Cardinality:  6\n",
        "512.4558897018433\n",
        "Training loss   : 0.029436489567160606\n",
        "Validation loss : 0.07413434982299805\n",
        "Percentage Accuracy: [Wrong,Right]: [ 3. 97.]\n",
        "\n",
        "\n",
        "Cardinality:  7\n",
        "512.4523162841797\n",
        "Training loss   : 0.03945969417691231\n",
        "Validation loss : 0.10321462154388428\n",
        "Percentage Accuracy: [Wrong,Right]: [ 4.1094 95.8906]\n",
        "\n",
        "\n",
        "Cardinality:  8\n",
        "513.3301746845245\n",
        "Training loss   : 0.05366307497024536\n",
        "Validation loss : 0.14584973454475403\n",
        "Percentage Accuracy: [Wrong,Right]: [ 5.403 94.597]\n",
        "\n",
        "\n",
        "Cardinality:  9\n",
        "512.0672745704651\n",
        "Training loss   : 0.07128644734621048\n",
        "Validation loss : 0.17760775983333588\n",
        "Percentage Accuracy: [Wrong,Right]: [ 6.576 93.424]\n",
        "\n",
        "\n",
        "Cardinality:  10\n",
        "513.6596004962921\n",
        "Training loss   : 0.08878307789564133\n",
        "Validation loss : 0.2388237863779068\n",
        "Percentage Accuracy: [Wrong,Right]: [ 8.5418 91.4582]\n",
        "\n"
      ]
    },
    {
      "cell_type": "markdown",
      "metadata": {
        "id": "7qRJwlvURYqi"
      },
      "source": [
        "1 Hidden layer neural network with 4*dimension number of nodes.\n",
        "\n",
        "|Waves| Dimensions   |      Equations      |  train sigma | test sigma |train loss(mse) | test loss | loss on sine wave | Visual obs|\n",
        "|-----:|----------|:-------------:|------:|-------:| -------:|------------:|------------:|-------:|\n",
        "|1| 100 |  100| 0.01 |0.2|0.00096|0.00069|0.01327 |Acceptable\n",
        "|2| 100 |  100| 0.01 |0.2|0.00912|0.01479|0.04617 |Acceptable\n",
        "|3| 100 |  100| 0.01 |0.2|0.01499|0.01059|0.09541 |Single sine results are wavier but acceptable\n",
        "|4| 100 |  100| 0.01 |0.2|0.02960|0.01541|0.07621 |similar to 3\n",
        "|5| 100 |  100| 0.01 |0.2|0.04723|0.02506|0.23794 |similar to 3\n",
        "|6| 100 |  100| 0.01 |0.2|0.05250|0.04264|0.18312 |similar to 3 + bad predictions for 1-2 waves\n",
        "|7| 100 |  100| 0.01 |0.2|0.05741|0.03608|0.21407 |similar to 6 \n",
        "|8| 100 |  100| 0.01 |0.2|0.05123|0.06004|0.22249 |similar to 6 \n",
        "\n",
        "\n",
        "\n",
        "\n"
      ]
    },
    {
      "cell_type": "markdown",
      "metadata": {
        "id": "rDL7QFAExYpZ"
      },
      "source": [
        "2 Hidden layer neural network with 4\\*dimension number of nodes in first and 2\\*dimension in second layer.\n",
        "\n",
        "|Waves| Dimensions   |      Equations      |  train sigma | test sigma |train loss(mse) | test loss | loss on sine wave | Visual obs|\n",
        "|-----:|----------|:-------------:|------:|-------:| -------:|------------:|------------:|-------:|\n",
        "|1| 100 |  100| 0.01 |0.2|0.00049|0.00085|0.00086 |Acceptable\n",
        "|2| 100 |  100| 0.01 |0.2|0.01416|0.00934|0.00768 |1 layer was better ,Acceptable\n",
        "|3| 100 |  100| 0.01 |0.2|0.01610|0.02042|0.04245 |1 layer model was better but single sine is better here\n",
        "|4| 100 |  100| 0.01 |0.2|0.02194|0.02873|0.10675 |similar to 3\n",
        "|5| 100 |  100| 0.01 |0.2|0.03140|0.02925|0.10590 |acceptable , less similar to 3\n",
        "|6| 100 |  100| 0.01 |0.2|0.03668|0.04846|0.08422 |similar to 3 + bad predictions for 1-2 waves\n",
        "|7| 100 |  100| 0.01 |0.2|0.03654|0.05338|0.10207 |similar to 6 \n",
        "|8| 100 |  100| 0.01 |0.2|0.05968|0.07704|0.23905 |similar to 6 \n"
      ]
    },
    {
      "cell_type": "code",
      "metadata": {
        "id": "rQ9Bfqev6EHU",
        "colab": {
          "base_uri": "https://localhost:8080/",
          "height": 284
        },
        "outputId": "322aa885-3f39-46fe-9fe6-6867dd66dd84"
      },
      "source": [
        "train_loss1 = [0.00096,0.00912,0.01499,0.02960,0.04723,0.05250,0.05741,0.05123]\n",
        "test_loss1 = [0.00069,0.01479,0.01059,0.01541,0.02506,0.04264,0.03608,0.06004]\n",
        "train_loss2 = [0.00049,0.01416,0.01610,0.02194,0.03140,0.03668,0.03654,0.05968]\n",
        "test_loss2 = [0.00085,0.000934,0.02042,0.02873,0.02925,0.04846,0.05338,0.07704]\n",
        "sine_loss1=[0.01327,0.04617,0.09541,0.07621,0.023794,0.18312,0.21407,0.22249]\n",
        "sine_loss2 = [0.00086,0.00768,0.04245,0.10675,0.10590,0.08422,0.10207,0.23905]\n",
        "numb_of_waves = np.arange(1,9)\n",
        "import matplotlib.pyplot as plt\n",
        "plt.plot(numb_of_waves,train_loss1,'r-',label= \"train loss 1\")\n",
        "# plt.plot(numb_of_waves,sine_loss1,'r.-',label =\"sine loss 1\")\n",
        "plt.plot(numb_of_waves,train_loss2,'b-',label = \"train loss 2\")\n",
        "plt.plot(numb_of_waves,test_loss1,'r--',label= \"test loss 1\")\n",
        "plt.plot(numb_of_waves,test_loss2,'b--',label = \"test loss 2\")\n",
        "# plt.plot(numb_of_waves,sine_loss2,'b.-',label = \"sine loss 2\")\n",
        "plt.legend()"
      ],
      "execution_count": null,
      "outputs": [
        {
          "output_type": "execute_result",
          "data": {
            "text/plain": [
              "<matplotlib.legend.Legend at 0x7fabc03ea890>"
            ]
          },
          "metadata": {
            "tags": []
          },
          "execution_count": 15
        },
        {
          "output_type": "display_data",
          "data": {
            "image/png": "[encoded data removed]",
            "text/plain": [
              "<Figure size 432x288 with 1 Axes>"
            ]
          },
          "metadata": {
            "tags": [],
            "needs_background": "light"
          }
        }
      ]
    },
    {
      "cell_type": "code",
      "metadata": {
        "id": "BljrXgBxmd3G",
        "colab": {
          "base_uri": "https://localhost:8080/",
          "height": 69
        },
        "outputId": "69f6a668-012d-4216-d8f4-815c618ccbbc"
      },
      "source": [
        "# Random Codes\n",
        "'''\n",
        "\n",
        "print(x)\n",
        "with open('dbx', 'rb') as f:\n",
        "  meh = np.load(f,allow_pickle=True) \n",
        "print(np.shape(x))\n",
        "print(np.shape(np.transpose(y[80])))\n",
        "print(x)\n",
        "print(y[80])\n",
        "print((y[80].reshape(3)))\n",
        "a =[[1.0421941],[0.8363143], [0.7082898]]\n",
        "print(((avg_error_norm)**2)/(dimension),avg_mse)\n",
        "\n",
        "'''\n",
        "\n",
        "# temp = [[-4, -3, -2],\n",
        "#        [-1,  0,  1],\n",
        "#        [ 2,  3,  4]]\n",
        "\n",
        "# temp2 = list(filter(lambda x: print(np.sum(x),\"\\n\") ,temp))\n",
        "# np.sum(temp2)\n",
        "# print(np.sum(temp[0]))\n",
        "# print(np.square(temp).mean())\n",
        "# x,_ = generate_db_sine_multiple(mu,test_sigma,A,dimension,equations,1,min_freq,max_freq,1)\n",
        "# print(x)"
      ],
      "execution_count": null,
      "outputs": [
        {
          "output_type": "execute_result",
          "data": {
            "application/vnd.google.colaboratory.intrinsic+json": {
              "type": "string"
            },
            "text/plain": [
              "\"\\n\\nprint(x)\\nwith open('dbx', 'rb') as f:\\n  meh = np.load(f,allow_pickle=True) \\nprint(np.shape(x))\\nprint(np.shape(np.transpose(y[80])))\\nprint(x)\\nprint(y[80])\\nprint((y[80].reshape(3)))\\na =[[1.0421941],[0.8363143], [0.7082898]]\\nprint(((avg_error_norm)**2)/(dimension),avg_mse)\\n\\n\""
            ]
          },
          "metadata": {
            "tags": []
          },
          "execution_count": 16
        }
      ]
    },
    {
      "cell_type": "code",
      "metadata": {
        "id": "mfmGMM-sxh2b",
        "colab": {
          "base_uri": "https://localhost:8080/"
        },
        "outputId": "85a0cbbd-bdb1-42c9-fade-6992212b3e1c"
      },
      "source": [
        "# #trying inverse using A Recurrent Neural Network for Real-Time Matrix Inversion* -Jun Wang\n",
        "import numpy as np\n",
        "# row = 4;col =5\n",
        "# A = np.random.rand(row,row)\n",
        "# A1 = np.array([[1,2,3,4],[5,6,7,8],[9,10,11,12]])\n",
        "# # dv = np.zeros((row,col), dtype=int)\n",
        "# v = np.zeros((row,row), dtype=float)\n",
        "# ya = np.array([13,14,15],[16,17,18])\n",
        "# ya= ya.reshape(3,1)\n",
        "# print(A1,ya)\n",
        "# A1 = np.append(A1,ya,axis=1)\n",
        "# print(A1.reshape(1,15))\n",
        "be = [1,2,3]\n",
        "ce = [3,4,5]\n",
        "de = [be,ce,be,be]\n",
        "print(len(be), len(de),len(de[0]))\n",
        "abc = np.random.rand(4,3)\n",
        "defg = [abc,abc]\n",
        "# defg = [defg,defg]\n",
        "print(len(defg),len(defg[0]),len(defg[0][0]))\n",
        "print(defg)\n",
        "# print(y.reshape(3,1))\n",
        "\n",
        "# eps = 1e-6\n",
        "# n =10000\n",
        "# delta = 1e4\n",
        "# AT = delta*A.T\n",
        "# # temp = -delta*np.matmul(A.T,A)\n",
        "# A_inv = np.linalg.inv(A)\n",
        "# I= np.eye(row, dtype=float)\n",
        "# while n:\n",
        "#   v = v- np.matmul(AT,np.arctan(np.matmul(A,v)-I ))\n",
        "#   # print(np.linalg.norm(A_inv-v),\"\\n\")\n",
        "#   n-=1\n",
        "# print(A,\"\\n\\n\",I  ,\"\\n\\n\",v,\"\\n\\n\",A_inv)\n",
        "# S = random(1, 10, density=4/10)\n",
        "# print(1*(S.A[0]>0))"
      ],
      "execution_count": null,
      "outputs": [
        {
          "output_type": "stream",
          "text": [
            "3 4 3\n",
            "2 4 3\n",
            "[array([[0.17958206, 0.15919323, 0.67269042],\n",
            "       [0.05231537, 0.60911247, 0.04843116],\n",
            "       [0.48262107, 0.68885384, 0.82392098],\n",
            "       [0.49670995, 0.19739309, 0.16888465]]), array([[0.17958206, 0.15919323, 0.67269042],\n",
            "       [0.05231537, 0.60911247, 0.04843116],\n",
            "       [0.48262107, 0.68885384, 0.82392098],\n",
            "       [0.49670995, 0.19739309, 0.16888465]])]\n"
          ],
          "name": "stdout"
        }
      ]
    }
  ]
}